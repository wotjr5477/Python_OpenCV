{
 "cells": [
  {
   "cell_type": "markdown",
   "id": "d4c8165b",
   "metadata": {},
   "source": [
    "# video capture\n"
   ]
  },
  {
   "cell_type": "markdown",
   "id": "a3b129ed",
   "metadata": {},
   "source": [
    "한 장 캡쳐"
   ]
  },
  {
   "cell_type": "code",
   "execution_count": 6,
   "id": "ef2a718a",
   "metadata": {},
   "outputs": [],
   "source": [
    "import cv2\n",
    "\n",
    "cap = cv2.VideoCapture(0) # 0을 argu로 비디오 캡쳐 객체 생성, 두대일 경우 하나는 0 하나는 1로 생성\n",
    "\n",
    "ret, img_color = cap.read() # 카메라로부터 이미지 한장 load\n",
    "\n",
    "cv2.imshow(\"Color\", img_color) # 화면에 출력\n",
    "cv2.waitKey(0) # 키보드 입력 대기\n",
    "\n",
    "cap.release() # 비디오 캡쳐 객체 메모리 해제\n",
    "cv2.destroyAllWindows() # 윈도우 자원 메모리 해제"
   ]
  },
  {
   "cell_type": "markdown",
   "id": "e4a3fbc5",
   "metadata": {},
   "source": [
    "무한루프 >> 연속 캡쳐 : 영상 캡쳐"
   ]
  },
  {
   "cell_type": "code",
   "execution_count": 7,
   "id": "ae0bcfe0",
   "metadata": {},
   "outputs": [],
   "source": [
    "import cv2\n",
    "\n",
    "cap = cv2.VideoCapture(0) # 0을 argu로 비디오 캡쳐 객체 생성, 두대일 경우 하나는 0 하나는 1로 생성\n",
    "\n",
    "\n",
    "while(True) :\n",
    "    ret, img_color = cap.read() # 카메라로부터 이미지 한장 load\n",
    "\n",
    "    if ret == False: # 캡쳐가 되지 않은 경우 루프 첫 줄부터 재 실행\n",
    "        continue\n",
    "    \n",
    "    \n",
    "    cv2.imshow(\"Color\", img_color) # 화면에 출력\n",
    "    if cv2.waitKey(1)&0xFF == 27: # esc 입력 1초후 키보드 입력 대기\n",
    "        break\n",
    "\n",
    "cap.release() # 비디오 캡쳐 객체 메모리 해제\n",
    "cv2.destroyAllWindows() # 윈도우 자원 메모리 해제"
   ]
  },
  {
   "cell_type": "markdown",
   "id": "26d87996",
   "metadata": {},
   "source": [
    "그레이 스케일로 변환한 영상 출력"
   ]
  },
  {
   "cell_type": "code",
   "execution_count": 8,
   "id": "5bf1da64",
   "metadata": {},
   "outputs": [],
   "source": [
    "import cv2\n",
    "\n",
    "cap = cv2.VideoCapture(0) # 0을 argu로 비디오 캡쳐 객체 생성, 두대일 경우 하나는 0 하나는 1로 생성\n",
    "\n",
    "\n",
    "while(True) :\n",
    "    ret, img_color = cap.read() # 카메라로부터 이미지 한장 load\n",
    "\n",
    "    if ret == False: # 캡쳐가 되지 않은 경우 루프 첫 줄부터 재 실행\n",
    "        continue\n",
    "    \n",
    "    img_gray = cv2.cvtColor(img_color, cv2.COLOR_BGR2GRAY) # 회색조 영상으로 변환\n",
    "    \n",
    "    cv2.imshow(\"Color\", img_color) # 화면에 출력\n",
    "    cv2.imshow(\"Gray\", img_gray) # Gray 창에 회색조 영상 출력\n",
    "    if cv2.waitKey(1)&0xFF == 27: # esc 입력 1초후 키보드 입력 대기\n",
    "        break\n",
    "\n",
    "cap.release() # 비디오 캡쳐 객체 메모리 해제\n",
    "cv2.destroyAllWindows() # 윈도우 자원 메모리 해제"
   ]
  },
  {
   "cell_type": "markdown",
   "id": "b7221d59",
   "metadata": {},
   "source": [
    "영상 저장하기"
   ]
  },
  {
   "cell_type": "code",
   "execution_count": 9,
   "id": "cea78bc1",
   "metadata": {},
   "outputs": [],
   "source": [
    "import cv2\n",
    "\n",
    "cap = cv2.VideoCapture(0) # 0을 argu로 비디오 캡쳐 객체 생성, 두대일 경우 하나는 0 하나는 1로 생성\n",
    "\n",
    "fourcc = cv2.VideoWriter_fourcc(*\"XVID\")\n",
    "writer = cv2.VideoWriter(\"output.avi\", fourcc, 30.0, (640, 480)) # (저장 할 파일 명, 코덱, 프레임수, 해상도)\n",
    "\n",
    "while(True) :\n",
    "    ret, img_color = cap.read() # 카메라로부터 이미지 한장 load\n",
    "\n",
    "    if ret == False: # 캡쳐가 되지 않은 경우 루프 첫 줄부터 재 실행\n",
    "        continue\n",
    "    \n",
    "    img_gray = cv2.cvtColor(img_color, cv2.COLOR_BGR2GRAY) # 회색조 영상으로 변환\n",
    "    \n",
    "    cv2.imshow(\"Color\", img_color) # 화면에 출력\n",
    "    cv2.imshow(\"Gray\", img_gray) # Gray 창에 회색조 영상 출력\n",
    "    \n",
    "    writer.write(img_color) # 화면을 반복적으로 저장(무한루프) >> 영상 저장\n",
    "    \n",
    "    if cv2.waitKey(1)&0xFF == 27: # esc 입력 1초후 키보드 입력 대기\n",
    "        break\n",
    "\n",
    "cap.release() # 비디오 캡쳐 객체 메모리 해제\n",
    "writer.release() # video writer 메모리 해제\n",
    "cv2.destroyAllWindows() # 윈도우 자원 메모리 해제"
   ]
  },
  {
   "cell_type": "markdown",
   "id": "274aceb8",
   "metadata": {},
   "source": [
    "영상 재생하기"
   ]
  },
  {
   "cell_type": "code",
   "execution_count": 29,
   "id": "a31653a2",
   "metadata": {},
   "outputs": [],
   "source": [
    "import cv2\n",
    "\n",
    "cap = cv2.VideoCapture(\"output.avi\") # 재생할 동영상 파일 이름\n",
    "\n",
    "\n",
    "while(True) :\n",
    "    ret, img_color = cap.read() # 카메라로부터 이미지 한장 load\n",
    "\n",
    "    if ret == False: # 캡쳐가 되지 않은 경우 루프 첫 줄부터 재 실행\n",
    "        break # 영상 끝까지 시청 후 무한루프에서 나옴\n",
    "    \n",
    "    img_gray = cv2.cvtColor(img_color, cv2.COLOR_BGR2GRAY) # 회색조 영상으로 변환\n",
    "    \n",
    "    cv2.imshow(\"Color\", img_color) # 화면에 출력\n",
    "    cv2.imshow(\"Gray\", img_gray) # Gray 창에 회색조 영상 출력\n",
    "    if cv2.waitKey(1)&0xFF == 27: # esc 입력 1초후 키보드 입력 대기\n",
    "        break\n",
    "\n",
    "cap.release() # 비디오 캡쳐 객체 메모리 해제\n",
    "cv2.destroyAllWindows() # 윈도우 자원 메모리 해제"
   ]
  },
  {
   "cell_type": "code",
   "execution_count": null,
   "id": "549df3c0",
   "metadata": {},
   "outputs": [],
   "source": []
  },
  {
   "cell_type": "code",
   "execution_count": null,
   "id": "d25a5766",
   "metadata": {},
   "outputs": [],
   "source": []
  }
 ],
 "metadata": {
  "kernelspec": {
   "display_name": "Python 3",
   "language": "python",
   "name": "python3"
  },
  "language_info": {
   "codemirror_mode": {
    "name": "ipython",
    "version": 3
   },
   "file_extension": ".py",
   "mimetype": "text/x-python",
   "name": "python",
   "nbconvert_exporter": "python",
   "pygments_lexer": "ipython3",
   "version": "3.8.8"
  }
 },
 "nbformat": 4,
 "nbformat_minor": 5
}
