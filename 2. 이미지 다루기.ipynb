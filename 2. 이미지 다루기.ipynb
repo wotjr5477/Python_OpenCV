{
 "cells": [
  {
   "cell_type": "markdown",
   "id": "8eeb6ea8",
   "metadata": {},
   "source": [
    "# load image"
   ]
  },
  {
   "cell_type": "code",
   "execution_count": 1,
   "id": "06164f9f",
   "metadata": {},
   "outputs": [],
   "source": [
    "import cv2\n",
    "\n",
    "img_color = cv2.imread(\"Billiard.jpg\", cv2.IMREAD_COLOR)\n",
    "\n",
    "# cv2.IMREAD_COLOR : 투명도 제외 컬러로 읽음\n",
    "# cv2.IMREAD_GRAYSCALE : 그레이스케일로 읽음\n",
    "# cv2.IMREAD_UNCHANGED : 투명도 포함 컬러로 읽음\n",
    "\n",
    "cv2.namedWindow(\"Show Image\") #윈도우에 컬러이미지를 보이게 함, 첫번째 argument가 식별자\n",
    "cv2.imshow(\"Show Image\", img_color) #지정한 윈도우에 이미지 출력, 네임윈도우 없이 사용해도 윈도우가 자동생성됨, argu : 윈도우 식별자, 윈도우에 보여줄 변수\n",
    "\n",
    "cv2.waitKey(0) # argu : 시간(second)만큼 키보드 입력 대기, 0 : 무한대기 - 윈도우를 키보드 입력이 있을 때 까지 화면에 띄워둠\n",
    "cv2.destroyAllWindows() # 프로그램 종료전 윈도우 자원 해제? - 프로세스 메모리 날린다는 뜻?"
   ]
  },
  {
   "cell_type": "markdown",
   "id": "5452d061",
   "metadata": {},
   "source": [
    "# convert to grayscale"
   ]
  },
  {
   "cell_type": "code",
   "execution_count": 2,
   "id": "af762916",
   "metadata": {},
   "outputs": [],
   "source": [
    "import cv2\n",
    "\n",
    "img_color = cv2.imread(\"Billiard.jpg\", cv2.IMREAD_COLOR)\n",
    "\n",
    "# cv2.IMREAD_COLOR : 투명도 제외 컬러로 읽음\n",
    "# cv2.IMREAD_GRAYSCALE : 그레이스케일로 읽음\n",
    "# cv2.IMREAD_UNCHANGED : 투명도 포함 컬러로 읽음\n",
    "\n",
    "cv2.namedWindow(\"Show Image\") #윈도우에 컬러이미지를 보이게 함, 첫번째 argument가 식별자\n",
    "cv2.imshow(\"Show Image\", img_color) #지정한 윈도우에 이미지 출력, 네임윈도우 없이 사용해도 윈도우가 자동생성됨, argu : 윈도우 식별자, 윈도우에 보여줄 변수\n",
    "\n",
    "cv2.waitKey(0) # argu : 시간(second)만큼 키보드 입력 대기, 0 : 무한대기 - 윈도우를 키보드 입력이 있을 때 까지 화면에 띄워둠\n",
    "\n",
    "img_gray = cv2.cvtColor(img_color, cv2.COLOR_BGR2GRAY) # 이미지 색 변환(변환 대상 이미지, 변환 할 색 공간)\n",
    "\n",
    "# cv2.namedWindow(\"Show Image\")\n",
    "cv2.imshow(\"Show Gray Image\", img_gray)  #윈도우 이름을 다르게 주면 다른 윈도우 출력, 같게 주면 내용이 바뀜\n",
    "cv2.waitKey(0)    \n",
    "\n",
    "\n",
    "cv2.imwrite(\"savedimage.jpg\", img_gray) # 저장할 파일 명, 저장할 변수\n",
    "\n",
    "cv2.destroyAllWindows() # 프로그램 종료전 윈도우 자원 해제? - 프로세스 메모리 날린다는 뜻?"
   ]
  },
  {
   "cell_type": "code",
   "execution_count": null,
   "id": "8f5e1851",
   "metadata": {},
   "outputs": [],
   "source": []
  },
  {
   "cell_type": "code",
   "execution_count": null,
   "id": "10f97b50",
   "metadata": {},
   "outputs": [],
   "source": []
  }
 ],
 "metadata": {
  "kernelspec": {
   "display_name": "Python 3",
   "language": "python",
   "name": "python3"
  },
  "language_info": {
   "codemirror_mode": {
    "name": "ipython",
    "version": 3
   },
   "file_extension": ".py",
   "mimetype": "text/x-python",
   "name": "python",
   "nbconvert_exporter": "python",
   "pygments_lexer": "ipython3",
   "version": "3.8.8"
  }
 },
 "nbformat": 4,
 "nbformat_minor": 5
}
