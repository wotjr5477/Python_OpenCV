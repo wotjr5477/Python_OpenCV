{
 "cells": [
  {
   "cell_type": "code",
   "execution_count": 1,
   "id": "39441acd",
   "metadata": {},
   "outputs": [
    {
     "name": "stdout",
     "output_type": "stream",
     "text": [
      "Collecting opencv-contrib-python\n",
      "  Downloading opencv_contrib_python-4.5.3.56-cp38-cp38-win_amd64.whl (41.8 MB)\n",
      "Requirement already satisfied: numpy>=1.17.3 in c:\\users\\cpb06gamen\\anaconda3\\lib\\site-packages (from opencv-contrib-python) (1.20.1)\n",
      "Installing collected packages: opencv-contrib-python\n",
      "Successfully installed opencv-contrib-python-4.5.3.56\n",
      "Note: you may need to restart the kernel to use updated packages.\n"
     ]
    }
   ],
   "source": [
    "pip install opencv-contrib-python"
   ]
  },
  {
   "cell_type": "markdown",
   "id": "c0f2bdf2",
   "metadata": {},
   "source": [
    "# 웹캠\n",
    "카메라로부터 캡쳐된 영상 "
   ]
  },
  {
   "cell_type": "code",
   "execution_count": 2,
   "id": "38d954e1",
   "metadata": {},
   "outputs": [
    {
     "name": "stdout",
     "output_type": "stream",
     "text": [
      "\n",
      "VideoCapture sample showcasing  some features of the Video4Linux2 backend\n",
      "\n",
      "Sample shows how VideoCapture class can be used to control parameters\n",
      "of a webcam such as focus or framerate.\n",
      "Also the sample provides an example how to access raw images delivered\n",
      "by the hardware to get a grayscale image in a very efficient fashion.\n",
      "\n",
      "Keys:\n",
      "    ESC    - exit\n",
      "    g      - toggle optimized grayscale conversion\n",
      "\n",
      "\n",
      "Done\n"
     ]
    }
   ],
   "source": [
    "#!/usr/bin/env python\n",
    "\n",
    "'''\n",
    "VideoCapture sample showcasing  some features of the Video4Linux2 backend\n",
    "\n",
    "Sample shows how VideoCapture class can be used to control parameters\n",
    "of a webcam such as focus or framerate.\n",
    "Also the sample provides an example how to access raw images delivered\n",
    "by the hardware to get a grayscale image in a very efficient fashion.\n",
    "\n",
    "Keys:\n",
    "    ESC    - exit\n",
    "    g      - toggle optimized grayscale conversion\n",
    "\n",
    "'''\n",
    "\n",
    "# Python 2/3 compatibility\n",
    "from __future__ import print_function\n",
    "\n",
    "import numpy as np\n",
    "import cv2 as cv\n",
    "\n",
    "def main():\n",
    "\n",
    "    def decode_fourcc(v):\n",
    "        v = int(v)\n",
    "        return \"\".join([chr((v >> 8 * i) & 0xFF) for i in range(4)])\n",
    "\n",
    "    font = cv.FONT_HERSHEY_SIMPLEX\n",
    "    color = (0, 255, 0)\n",
    "\n",
    "    cap = cv.VideoCapture(0)\n",
    "    cap.set(cv.CAP_PROP_AUTOFOCUS, 0)  # Known bug: https://github.com/opencv/opencv/pull/5474\n",
    "\n",
    "    cv.namedWindow(\"Video\")\n",
    "\n",
    "    convert_rgb = True\n",
    "    fps = int(cap.get(cv.CAP_PROP_FPS))\n",
    "    focus = int(min(cap.get(cv.CAP_PROP_FOCUS) * 100, 2**31-1))  # ceil focus to C_LONG as Python3 int can go to +inf\n",
    "\n",
    "    cv.createTrackbar(\"FPS\", \"Video\", fps, 30, lambda v: cap.set(cv.CAP_PROP_FPS, v))\n",
    "    cv.createTrackbar(\"Focus\", \"Video\", focus, 100, lambda v: cap.set(cv.CAP_PROP_FOCUS, v / 100))\n",
    "\n",
    "    while True:\n",
    "        _status, img = cap.read()\n",
    "\n",
    "        fourcc = decode_fourcc(cap.get(cv.CAP_PROP_FOURCC))\n",
    "\n",
    "        fps = cap.get(cv.CAP_PROP_FPS)\n",
    "\n",
    "        if not bool(cap.get(cv.CAP_PROP_CONVERT_RGB)):\n",
    "            if fourcc == \"MJPG\":\n",
    "                img = cv.imdecode(img, cv.IMREAD_GRAYSCALE)\n",
    "            elif fourcc == \"YUYV\":\n",
    "                img = cv.cvtColor(img, cv.COLOR_YUV2GRAY_YUYV)\n",
    "            else:\n",
    "                print(\"unsupported format\")\n",
    "                break\n",
    "\n",
    "        cv.putText(img, \"Mode: {}\".format(fourcc), (15, 40), font, 1.0, color)\n",
    "        cv.putText(img, \"FPS: {}\".format(fps), (15, 80), font, 1.0, color)\n",
    "        cv.imshow(\"Video\", img)\n",
    "\n",
    "        k = cv.waitKey(1)\n",
    "\n",
    "        if k == 27:\n",
    "            break\n",
    "        elif k == ord('g'):\n",
    "            convert_rgb = not convert_rgb\n",
    "            cap.set(cv.CAP_PROP_CONVERT_RGB, 1 if convert_rgb else 0)\n",
    "\n",
    "    print('Done')\n",
    "\n",
    "\n",
    "if __name__ == '__main__':\n",
    "    print(__doc__)\n",
    "    main()\n",
    "    cv.destroyAllWindows()"
   ]
  },
  {
   "cell_type": "code",
   "execution_count": null,
   "id": "7b66b9c1",
   "metadata": {},
   "outputs": [],
   "source": []
  },
  {
   "cell_type": "code",
   "execution_count": null,
   "id": "d729b7cc",
   "metadata": {},
   "outputs": [],
   "source": []
  },
  {
   "cell_type": "code",
   "execution_count": null,
   "id": "96880667",
   "metadata": {},
   "outputs": [],
   "source": []
  }
 ],
 "metadata": {
  "kernelspec": {
   "display_name": "Python 3",
   "language": "python",
   "name": "python3"
  },
  "language_info": {
   "codemirror_mode": {
    "name": "ipython",
    "version": 3
   },
   "file_extension": ".py",
   "mimetype": "text/x-python",
   "name": "python",
   "nbconvert_exporter": "python",
   "pygments_lexer": "ipython3",
   "version": "3.8.8"
  }
 },
 "nbformat": 4,
 "nbformat_minor": 5
}
