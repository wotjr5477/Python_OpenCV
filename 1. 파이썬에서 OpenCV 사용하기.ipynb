{
 "cells": [
  {
   "cell_type": "code",
   "execution_count": 1,
   "id": "39441acd",
   "metadata": {},
   "outputs": [
    {
     "name": "stdout",
     "output_type": "stream",
     "text": [
      "Collecting opencv-contrib-python\n",
      "  Downloading opencv_contrib_python-4.5.3.56-cp38-cp38-win_amd64.whl (41.8 MB)\n",
      "Requirement already satisfied: numpy>=1.17.3 in c:\\users\\cpb06gamen\\anaconda3\\lib\\site-packages (from opencv-contrib-python) (1.20.1)\n",
      "Installing collected packages: opencv-contrib-python\n",
      "Successfully installed opencv-contrib-python-4.5.3.56\n",
      "Note: you may need to restart the kernel to use updated packages.\n"
     ]
    }
   ],
   "source": [
    "pip install opencv-contrib-python"
   ]
  },
  {
   "cell_type": "markdown",
   "id": "c0f2bdf2",
   "metadata": {},
   "source": [
    "# 웹캠\n",
    "카메라로부터 캡쳐된 영상 "
   ]
  },
  {
   "cell_type": "code",
   "execution_count": 2,
   "id": "38d954e1",
   "metadata": {},
   "outputs": [
    {
     "name": "stdout",
     "output_type": "stream",
     "text": [
      "\n",
      "VideoCapture sample showcasing  some features of the Video4Linux2 backend\n",
      "\n",
      "Sample shows how VideoCapture class can be used to control parameters\n",
      "of a webcam such as focus or framerate.\n",
      "Also the sample provides an example how to access raw images delivered\n",
      "by the hardware to get a grayscale image in a very efficient fashion.\n",
      "\n",
      "Keys:\n",
      "    ESC    - exit\n",
      "    g      - toggle optimized grayscale conversion\n",
      "\n",
      "\n",
      "Done\n"
     ]
    }
   ],
   "source": [
    "#!/usr/bin/env python\n",
    "\n",
    "'''\n",
    "VideoCapture sample showcasing  some features of the Video4Linux2 backend\n",
    "\n",
    "Sample shows how VideoCapture class can be used to control parameters\n",
    "of a webcam such as focus or framerate.\n",
    "Also the sample provides an example how to access raw images delivered\n",
    "by the hardware to get a grayscale image in a very efficient fashion.\n",
    "\n",
    "Keys:\n",
    "    ESC    - exit\n",
    "    g      - toggle optimized grayscale conversion\n",
    "\n",
    "'''\n",
    "\n",
    "# Python 2/3 compatibility\n",
    "from __future__ import print_function\n",
    "\n",
    "import numpy as np\n",
    "import cv2 as cv\n",
    "\n",
    "def main():\n",
    "\n",
    "    def decode_fourcc(v):\n",
    "        v = int(v)\n",
    "        return \"\".join([chr((v >> 8 * i) & 0xFF) for i in range(4)])\n",
    "\n",
    "    font = cv.FONT_HERSHEY_SIMPLEX\n",
    "    color = (0, 255, 0)\n",
    "\n",
    "    cap = cv.VideoCapture(0)\n",
    "    cap.set(cv.CAP_PROP_AUTOFOCUS, 0)  # Known bug: https://github.com/opencv/opencv/pull/5474\n",
    "\n",
    "    cv.namedWindow(\"Video\")\n",
    "\n",
    "    convert_rgb = True\n",
    "    fps = int(cap.get(cv.CAP_PROP_FPS))\n",
    "    focus = int(min(cap.get(cv.CAP_PROP_FOCUS) * 100, 2**31-1))  # ceil focus to C_LONG as Python3 int can go to +inf\n",
    "\n",
    "    cv.createTrackbar(\"FPS\", \"Video\", fps, 30, lambda v: cap.set(cv.CAP_PROP_FPS, v))\n",
    "    cv.createTrackbar(\"Focus\", \"Video\", focus, 100, lambda v: cap.set(cv.CAP_PROP_FOCUS, v / 100))\n",
    "\n",
    "    while True:\n",
    "        _status, img = cap.read()\n",
    "\n",
    "        fourcc = decode_fourcc(cap.get(cv.CAP_PROP_FOURCC))\n",
    "\n",
    "        fps = cap.get(cv.CAP_PROP_FPS)\n",
    "\n",
    "        if not bool(cap.get(cv.CAP_PROP_CONVERT_RGB)):\n",
    "            if fourcc == \"MJPG\":\n",
    "                img = cv.imdecode(img, cv.IMREAD_GRAYSCALE)\n",
    "            elif fourcc == \"YUYV\":\n",
    "                img = cv.cvtColor(img, cv.COLOR_YUV2GRAY_YUYV)\n",
    "            else:\n",
    "                print(\"unsupported format\")\n",
    "                break\n",
    "\n",
    "        cv.putText(img, \"Mode: {}\".format(fourcc), (15, 40), font, 1.0, color)\n",
    "        cv.putText(img, \"FPS: {}\".format(fps), (15, 80), font, 1.0, color)\n",
    "        cv.imshow(\"Video\", img)\n",
    "\n",
    "        k = cv.waitKey(1)\n",
    "\n",
    "        if k == 27:\n",
    "            break\n",
    "        elif k == ord('g'):\n",
    "            convert_rgb = not convert_rgb\n",
    "            cap.set(cv.CAP_PROP_CONVERT_RGB, 1 if convert_rgb else 0)\n",
    "\n",
    "    print('Done')\n",
    "\n",
    "\n",
    "if __name__ == '__main__':\n",
    "    print(__doc__)\n",
    "    main()\n",
    "    cv.destroyAllWindows()"
   ]
  },
  {
   "cell_type": "markdown",
   "id": "d459ddac",
   "metadata": {},
   "source": [
    "아니 진짜 뭐만 하면 화를 내네\n",
    "내가 약속 안해서 편하겠다고?\n",
    "단순히 편하기 위해 약속 안한 것 같냐?\n",
    "그러는 너는 약속했는데 안지키고 배째라해서 편하겠다 야\n",
    "나는 약속 한 번 하면 어떻게든 그 신뢰를 지킬려고 노력하기 때문에 너랑 약속이 쉽사리 되지않는거고\n",
    "너는 그저 돌아선 내 마음 그 순간에라도 돌리기위해 뱉은 말인데 그 무게감이 어떻게 같을 수 있냐\n",
    "하물며 나한테 약속을 바랬다 치자 그럼 너부터 약속 금쪽같이 잘 지키던가 그럼 내가 뭐 약속 하지 않아도 알아서 잘하겠지\n",
    "니가 알던 나에게서 더 나빠졌다고?\n",
    "사랑하던 모습이 없어?\n",
    "그거 이전부터 내가 뱉었던 말인거 진짜 몰라서 하는말이냐???\n",
    "너야말로 사랑했던 모습 그대로 돌아오든가 제일 크게 변한게 넌데 지금 나한테 그런 소리를 해?\n",
    "진짜 정말 뻔뻔하다. 진짜 뻔뻔한게 누군데\n",
    "뭐가 그렇게 어려운데?\n",
    "원래도 니가 그렇게 나한테 잘했다고도 생각 안해. 근데 그 원래만큼도 못하잖아\n",
    "그러면서 나한테 내 태도 뭐라하는데 진짜 개 스트레스받아\n",
    "단순히 뭐 안바라고 너만 달라질 생각이라도 해봤냐? 했으면 지금 이런 소리 안나오지 싶다\n",
    "내가 뭐 참지말라고 누누히 말해왔는데 너 혼자 다 쌓아두다가 이러는거아니야 지금? 진짜 우습니? 이럴거면 다시 시작도 하지마라고. 뭐 해볼 시도 안해봤냐고? 야 니가 뭘 아는데 나한테 계속 손가락질이냐? 니는 말로는 뭐 하자 하자 했겠지 정작 진짜 니랑 뭐 할까 뭐 어디갈까 생각하던거는 나야;;; 말로 직접 어디가자 안뱉으면 노력한게 아닌게 되냐? 니한테 어디가자 뭐하자 해서 성사된게 있기는하나? 하물며 오늘 은정이랑 편의점에서부터 전화 3시간하면서 갑작스럽게 경주월드 가고싶다 하다가 경주 어디갈지 숙소 교통까지 예약 다했다. 니가 나랑 그렇게 추진력있게 뭘 한 적이 있냐? 가자가자 하자하자 해서 겨우 좀 차분해지고 안정적인 순간에나 한 번 군산 다녀온게 다였지. 니 이 핑계 저 핑계 이거미루고 저거미루고 하는거때문에 나도 니한테 은근히 얘기했던 것들 하나도 못했어. 알아? 제주도도 계곡도 아무것도 못했다고. 관계가 어지러워서? 관계가 어지럽다고 그 때에만 할 수 있는 것들 놓치면서 살면 전화위복이 될 수 있는건 아예 없겠네? 내가 왜 술이라도 마셔보면서 얘기하자, 이래보자 저래보자 얘기해보고 안되면 정말 끝내자 했는지 모르냐? 그냥 끝내긴 아쉬워서다. 나도 그나마 그 시절의 너한테는 희망들을 봤다고. 막말로 내가 만나서 얘기하자, 좀 쉬었다가 연락 안하다가 얘기하자 이 지랄만 지금 몇달 아니 1년째 하고 있어. 너 나보고 제대로 얘기하자한게 지난 1년간 몇번이나 되냐? 그저 잘지내자 뭐 편하게 하자? 야 말이 쉽지 뭐 하나 단단히 정하지도 않고 그나마 약속한것도 며칠안되어 무너지는데 니가 나라면 할 맛 날까? 갖고싶은거 없냐고? 하고싶은거 없냐고? 말하면 해주냐??? 니가 진정성있게 나도 이런거 하고싶은데 우리 돈 같이 모을까 이런 얘기라도 해봤냐? 그저 불안정한 관계핑계 다른 커플들은 뭐 하염없이 안정적인 기간만 있어서 리프레시 한답시고 남자든 여자든 뭐든 시도해볼까? 나는 이 시도 저 시도 다해봤다. 오죽하면 친구한테 데려갔겠냐? 그건 노력 아니냐? 넌 대체 뭘 그렇게 적극적으로 했는데 니 그냥 내 입에서 니가 듣고싶은 아래에있는 포지션이 내가 되길 바라는거 아니고? 단순 관계에있어서 노력은 나도 할 만큼 했다. 불과 월요일 알바갈때까지만해도 커플상담 커플클리닉같은것도 알아봤다. 어디가 얼마하는지 어느동네에 위치하는지도 다 알아. 너는 정작 뭐 예쁜 카페 페이스북에 보이는거 한두개 찾은거말고 관계 개선을 위해 적극적으로 뭘 그렇게 해봤냐 니처럼 말만 뱉지 않는다고 나는;;; 단순히 평탄히 데이트? 나 그런거 졸라 좋아하고 재밌어한다 근데 그게 되는 상대방이여야말이지 그걸 하기 이전에 우리 이런건 절대 하지말자 이런 말들은 뱉지말자 약속하고도 네가 나랑 한 약속 손바닥 뒤집듯이 뒤집는거보면 혈압올라서 뱉지말자 스스로도 다짐했던 말들 손쉽게 뱉곤한다. 내가 그 꼬라지 반복하기 싫어서 너보고 감정적으로 나한티 좀만 배려해달라고 내가 화난거같으먼 그냥 좀 달래주고 아니 그게 시바 어려우면 대체 얼마나 어려운데 그냥 니가 존나 하기싫은거같다고 내입장에선 알아? 진짜 열 너무 채여 몇 번을 얘기해야하냐 진짜 하기싫으면 때려쳐 니 말대로 무조건 고분고분 좋게는 안되겠지 나도 이제 감정적으로 싸우지만 않고 누가봐도 싫은티가 아니라 정적으로 헤어지는 정도면 만족한다; 이젠 헤어졌다가 만나고 그럴 마음도 없어졌다 할 사람이면 니가 지금이라도 하지 않겠냐? 나는 말로는 으쌰으쌰 못했겠지 결정적인 순간들엔 근데 여태 행동으로 적어도 내 마음속으로는 너와의 관계 개선을 위해 온갖 짓과 방안 다 했다 그래서 똑같이 지친거야 아무것도 안했다하지마 그게 제일 빡치니까\n",
    "너가 뭐 어떻게 하기러 한건데??? 그냥 이럴거면 이거하기싫다 저럴거면 저거하기싫다 아니야? 지금 나보고 헤어지자하는건지 시간을 갖자하는건지 잘지내보자(는 아무래도 아닌거같고)는건지 나는 요점을 파악하지도 못했다"
   ]
  },
  {
   "cell_type": "markdown",
   "id": "7e5f5d70",
   "metadata": {},
   "source": [
    "나는 화내면서 이야기 한 것도 아니구;; 뭔 약속하고 안지키고 배째라 한적도 없다;; 단순히 순간을 모면하고 마음 돌리려고 한 말도 아니고,,\n",
    "그것 보다는 뭐 \"니가 알던 나에게서 더 나빠졌다고? 사랑하던 모습이 없어? 그거 이전부터 내가 뱉었던 말인거 진짜 몰라서 하는말이냐???\" 이런 말을 하는데 진짜 기가 찬다;; 진짜 뻔뻔하기 그지 없네,, 내가 처음부터 실망한 네 모습에 여전히 팔짱끼고 있다 뭐 그런건가? 아님 여전히 뭐 나는 원래 이래 이런거야? 변함 없어서 좋겠다;; 내가 뭐 그냥 혼자 쌓아두다 이러는 것도 아니고 아니 "
   ]
  },
  {
   "cell_type": "code",
   "execution_count": null,
   "id": "96880667",
   "metadata": {},
   "outputs": [],
   "source": []
  }
 ],
 "metadata": {
  "kernelspec": {
   "display_name": "Python 3",
   "language": "python",
   "name": "python3"
  },
  "language_info": {
   "codemirror_mode": {
    "name": "ipython",
    "version": 3
   },
   "file_extension": ".py",
   "mimetype": "text/x-python",
   "name": "python",
   "nbconvert_exporter": "python",
   "pygments_lexer": "ipython3",
   "version": "3.8.8"
  }
 },
 "nbformat": 4,
 "nbformat_minor": 5
}
